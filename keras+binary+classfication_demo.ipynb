{
 "cells": [
  {
   "cell_type": "markdown",
   "metadata": {},
   "source": [
    "# Input libraries"
   ]
  },
  {
   "cell_type": "code",
   "execution_count": 1,
   "metadata": {},
   "outputs": [],
   "source": [
    "import keras\n",
    "import numpy\n",
    "import pandas\n",
    "from keras.models import Sequential\n",
    "from keras.layers import Dense\n",
    "from keras.wrappers.scikit_learn import KerasClassifier\n",
    "from sklearn.model_selection import cross_val_score\n",
    "from sklearn.preprocessing import LabelEncoder\n",
    "from sklearn.model_selection import StratifiedKFold\n",
    "from sklearn.preprocessing import StandardScaler\n",
    "from sklearn.pipeline import Pipeline\n",
    "import numpy as np\n",
    "import matplotlib.pyplot as plt\n",
    "import pandas as pd"
   ]
  },
  {
   "cell_type": "markdown",
   "metadata": {},
   "source": [
    "# Data input"
   ]
  },
  {
   "cell_type": "code",
   "execution_count": 2,
   "metadata": {},
   "outputs": [],
   "source": [
    "# Importing the dataset\n",
    "dataset = pd.read_csv('default of credit card clients.csv')"
   ]
  },
  {
   "cell_type": "markdown",
   "metadata": {},
   "source": [
    "# X and Y distribution of dataset"
   ]
  },
  {
   "cell_type": "code",
   "execution_count": 10,
   "metadata": {},
   "outputs": [
    {
     "data": {
      "text/plain": [
       "array([1, 1, 0, ..., 1, 1, 1], dtype=int64)"
      ]
     },
     "execution_count": 10,
     "metadata": {},
     "output_type": "execute_result"
    }
   ],
   "source": [
    "X = dataset.iloc[:, 1:24].values\n",
    "y = dataset.iloc[:, 24].values\n",
    "X.shape,y.shape\n",
    "y"
   ]
  },
  {
   "cell_type": "markdown",
   "metadata": {},
   "source": [
    "# Convert Categorical to Numerical Data"
   ]
  },
  {
   "cell_type": "code",
   "execution_count": 11,
   "metadata": {},
   "outputs": [],
   "source": [
    "# from sklearn.preprocessing import LabelEncoder, OneHotEncoder\n",
    "# #for country column\n",
    "# labelencoder_X_1 = LabelEncoder()\n",
    "# X[:, 1] = labelencoder_X_1.fit_transform(X[:, 1])\n",
    "# #for gender column\n",
    "# labelencoder_X_2 = LabelEncoder()\n",
    "# X[:, 2] = labelencoder_X_2.fit_transform(X[:, 2])\n",
    "# np.shape(X)\n",
    "# X"
   ]
  },
  {
   "cell_type": "markdown",
   "metadata": {},
   "source": [
    "# Deep Learning Baseline Model-Using Buildin Function"
   ]
  },
  {
   "cell_type": "code",
   "execution_count": 41,
   "metadata": {},
   "outputs": [],
   "source": [
    "# baseline model(using 1 connected layer and one 1 output layer)\n",
    "def create_baseline():\n",
    "# create model\n",
    "    model = Sequential()\n",
    "    model.add(Dense(30, input_dim=23, kernel_initializer='normal', activation='relu'))\n",
    "    model.add(Dense(23, input_dim=30, kernel_initializer='normal', activation='relu'))\n",
    "    model.add(Dense(30, input_dim=23, kernel_initializer='normal', activation='relu'))\n",
    "    model.add(Dense(30, input_dim=23, kernel_initializer='normal', activation='relu'))\n",
    "    model.add(Dense(1, kernel_initializer='random_normal', activation='tanh'))\n",
    "    # Compile model\n",
    "    model.compile(loss='binary_crossentropy', optimizer='adam', metrics=['accuracy'])\n",
    "    return model"
   ]
  },
  {
   "cell_type": "code",
   "execution_count": 42,
   "metadata": {},
   "outputs": [
    {
     "name": "stdout",
     "output_type": "stream",
     "text": [
      "Results: 77.88% (0.01%)\n"
     ]
    }
   ],
   "source": [
    "seed = 7\n",
    "numpy.random.seed(seed)\n",
    "# evaluate model with standardized dataset\n",
    "estimator = KerasClassifier(build_fn=create_baseline, epochs=50, batch_size=5, verbose=0)\n",
    "kfold = StratifiedKFold(n_splits=5, shuffle=True, random_state=seed)\n",
    "results = cross_val_score(estimator, X, y, cv=kfold)\n",
    "print(\"Results: %.2f%% (%.2f%%)\" % (results.mean()*100, results.std()*100))\n"
   ]
  },
  {
   "cell_type": "markdown",
   "metadata": {},
   "source": [
    "# Deep Learning Model-Using Sequential Module\n"
   ]
  },
  {
   "cell_type": "code",
   "execution_count": 43,
   "metadata": {},
   "outputs": [],
   "source": [
    "from sklearn.model_selection import train_test_split\n",
    "X_train, X_test, y_train, y_test = train_test_split(X, y, test_size = 0.2)"
   ]
  },
  {
   "cell_type": "code",
   "execution_count": 44,
   "metadata": {},
   "outputs": [
    {
     "name": "stdout",
     "output_type": "stream",
     "text": [
      "Epoch 1/20\n",
      "4800/4800 [==============================] - 7s 1ms/step - loss: 0.5443 - accuracy: 0.7735\n",
      "Epoch 2/20\n",
      "4800/4800 [==============================] - 5s 948us/step - loss: 0.5137 - accuracy: 0.7791\n",
      "Epoch 3/20\n",
      "4800/4800 [==============================] - 5s 945us/step - loss: 0.5096 - accuracy: 0.7790\n",
      "Epoch 4/20\n",
      "4800/4800 [==============================] - 5s 977us/step - loss: 0.5091 - accuracy: 0.7769\n",
      "Epoch 5/20\n",
      "4800/4800 [==============================] - 6s 1ms/step - loss: 0.5095 - accuracy: 0.7779\n",
      "Epoch 6/20\n",
      "4800/4800 [==============================] - 6s 1ms/step - loss: 0.5054 - accuracy: 0.7795\n",
      "Epoch 7/20\n",
      "4800/4800 [==============================] - 5s 1ms/step - loss: 0.5103 - accuracy: 0.7774\n",
      "Epoch 8/20\n",
      "4800/4800 [==============================] - 5s 1ms/step - loss: 0.5130 - accuracy: 0.7740\n",
      "Epoch 9/20\n",
      "4800/4800 [==============================] - 5s 1ms/step - loss: 0.5039 - accuracy: 0.7810\n",
      "Epoch 10/20\n",
      "4800/4800 [==============================] - 5s 1ms/step - loss: 0.5085 - accuracy: 0.7769\n",
      "Epoch 11/20\n",
      "4800/4800 [==============================] - 5s 1ms/step - loss: 0.5105 - accuracy: 0.7767\n",
      "Epoch 12/20\n",
      "4800/4800 [==============================] - 5s 971us/step - loss: 0.5056 - accuracy: 0.7769\n",
      "Epoch 13/20\n",
      "4800/4800 [==============================] - 5s 1ms/step - loss: 0.5113 - accuracy: 0.7756\n",
      "Epoch 14/20\n",
      "4800/4800 [==============================] - 5s 1ms/step - loss: 0.5148 - accuracy: 0.7741\n",
      "Epoch 15/20\n",
      "4800/4800 [==============================] - 5s 1ms/step - loss: 0.5128 - accuracy: 0.7744\n",
      "Epoch 16/20\n",
      "4800/4800 [==============================] - 5s 986us/step - loss: 0.5140 - accuracy: 0.7711\n",
      "Epoch 17/20\n",
      "4800/4800 [==============================] - 5s 1ms/step - loss: 0.5112 - accuracy: 0.7758\n",
      "Epoch 18/20\n",
      "4800/4800 [==============================] - 5s 954us/step - loss: 0.5119 - accuracy: 0.7764\n",
      "Epoch 19/20\n",
      "4800/4800 [==============================] - 5s 995us/step - loss: 0.5055 - accuracy: 0.7804\n",
      "Epoch 20/20\n",
      "4800/4800 [==============================] - 5s 1ms/step - loss: 0.5106 - accuracy: 0.7768\n"
     ]
    },
    {
     "data": {
      "text/plain": [
       "<keras.callbacks.History at 0x27993d26700>"
      ]
     },
     "execution_count": 44,
     "metadata": {},
     "output_type": "execute_result"
    }
   ],
   "source": [
    "#Initializing Neural Network\n",
    "Model = Sequential()\n",
    "Model.add(Dense(30, input_dim = 23, kernel_initializer = 'uniform', activation = 'relu'))\n",
    "# Adding the second hidden layer\n",
    "Model.add(Dense(23, kernel_initializer = 'uniform', activation = 'relu'))\n",
    "# Adding the third hidden layer\n",
    "Model.add(Dense(23, kernel_initializer = 'uniform', activation = 'relu'))\n",
    "# Adding the output layer\n",
    "Model.add(Dense(1, kernel_initializer = 'uniform', activation = 'sigmoid'))\n",
    "# Compiling Neural Network\n",
    "Model.compile(optimizer = 'adam', loss = 'binary_crossentropy', metrics = ['accuracy'])\n",
    "#fitting the neural Network\n",
    "Model.fit(X_train, y_train, batch_size = 5, epochs = 20)"
   ]
  },
  {
   "cell_type": "code",
   "execution_count": 40,
   "metadata": {},
   "outputs": [
    {
     "name": "stdout",
     "output_type": "stream",
     "text": [
      "188/188 [==============================] - 1s 987us/step - loss: 0.5387 - accuracy: 0.7707\n",
      "Accuracy:  77.06666588783264\n",
      "loss: 53.866881132125854\n"
     ]
    }
   ],
   "source": [
    "score = Model.evaluate(X_test, y_test, verbose=1)\n",
    "print('Accuracy: ', score[1]*100)\n",
    "print( 'loss:', score[0]*100)"
   ]
  },
  {
   "cell_type": "code",
   "execution_count": null,
   "metadata": {},
   "outputs": [],
   "source": []
  }
 ],
 "metadata": {
  "kernelspec": {
   "display_name": "Python 3",
   "language": "python",
   "name": "python3"
  },
  "language_info": {
   "codemirror_mode": {
    "name": "ipython",
    "version": 3
   },
   "file_extension": ".py",
   "mimetype": "text/x-python",
   "name": "python",
   "nbconvert_exporter": "python",
   "pygments_lexer": "ipython3",
   "version": "3.8.5"
  }
 },
 "nbformat": 4,
 "nbformat_minor": 2
}
